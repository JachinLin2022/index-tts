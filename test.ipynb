{
 "cells": [
  {
   "cell_type": "code",
   "execution_count": null,
   "id": "ef59f79f",
   "metadata": {},
   "outputs": [],
   "source": [
    "import os\n",
    "os.environ['VLLM_USE_V1'] = '0'\n",
    "from indextts.infer_v2_vllm import IndexTTS2\n",
    "# from indextts.infer_v2 import IndexTTS2\n",
    "import asyncio\n",
    "index_tts = IndexTTS2(cfg_path=\"checkpoints/config.yaml\", model_dir=\"checkpoints\", use_cuda_kernel=False, gpu_memory_utilization=0.25)"
   ]
  },
  {
   "cell_type": "code",
   "execution_count": null,
   "id": "2ddf0aeb",
   "metadata": {},
   "outputs": [],
   "source": [
    "import importlib\n",
    "import types\n",
    "from pydub import AudioSegment\n",
    "from indextts import infer_v2_vllm\n",
    "importlib.reload(infer_v2_vllm)\n",
    "from indextts.infer_v2_vllm import IndexTTS2\n",
    "index_tts.infer_stream = types.MethodType(IndexTTS2.infer_stream, index_tts)\n",
    "index_tts.infer_parallel = types.MethodType(IndexTTS2.infer_parallel, index_tts)\n",
    "\n",
    "count = 0\n",
    "concat_segment = None\n",
    "from io import BytesIO\n",
    "\n",
    "async for chunk in index_tts.infer_stream(spk_audio_prompt='data/tina_test.wav', text=\"\"\"Tom could benefit from more consistent practice to really solidify his understanding and skills in chess. This is a common area for growth, and with some focused effort, we'll see great progress. To help Tom get more accustomed to chess, we recommend establishing a fun, regular practice routine at home. Tom could try playing one or two quick games daily, either with family or on a platform like ChessKid. Solving a few chess puzzles each week through an app or workbook is also an excellent way to sharpen his mind. Aiming for around 2-4 hours of practice a week will build a strong foundation and keep the game enjoyable and engaging for him.\"\"\", output_path=\"test_parallel2.wav\", verbose=False, max_text_tokens_per_segment=120, interval_silence=0):\n",
    "\n",
    "\n",
    "    with open(f\"test_stream_{count}.wav\", \"wb\") as f:\n",
    "        f.write(chunk)\n",
    "    if concat_segment is None:\n",
    "        concat_segment = AudioSegment.from_file(BytesIO(chunk))\n",
    "    else:\n",
    "        concat_segment = concat_segment.append(AudioSegment.from_file(BytesIO(chunk)), crossfade=0)\n",
    "\n",
    "concat_segment.export(\"test_stream.mp3\", format=\"mp3\")\n",
    "# await index_tts.infer_parallel(spk_audio_prompt='data/test_real.wav', text=\"\"\"Tom could benefit from more consistent practice to really solidify his understanding and skills in chess. This is a common area for growth, and with some focused effort, we'll see great progress. To help Tom get more accustomed to chess, we recommend establishing a fun, regular practice routine at home. Tom could try playing one or two quick games daily, either with family or on a platform like ChessKid. Solving a few chess puzzles each week through an app or workbook is also an excellent way to sharpen his mind. Aiming for around 2-4 hours of practice a week will build a strong foundation and keep the game enjoyable and engaging for him.\"\"\", output_path=\"test_parallel.wav\", verbose=False, max_text_tokens_per_segment=120, interval_silence=0)\n"
   ]
  },
  {
   "cell_type": "code",
   "execution_count": null,
   "id": "8f3d6f56",
   "metadata": {},
   "outputs": [],
   "source": [
    "from pydub import AudioSegment\n",
    "\n",
    "# 加载两个音频文件\n",
    "audio1 = AudioSegment.from_mp3(\"test_stream_1.wav\")\n",
    "audio2 = AudioSegment.from_mp3(\"test_stream_2.wav\")\n",
    "\n",
    "merged_chunk = audio1.append(audio2, crossfade=0)\n",
    "merged_chunk.export(\"merged_chunk.mp3\", format=\"mp3\")\n",
    "# def stream_with_crossfade(audio1, audio2, crossfade_ms=250):\n",
    "#     # Step 1: 播放 audio1 主体部分（除去最后 crossfade_ms）\n",
    "#     main_part = audio1[:-crossfade_ms]\n",
    "#     yield main_part.raw_data  # 或导出为临时文件/分块传输\n",
    "\n",
    "#     # Step 2: 交叉淡出淡入部分\n",
    "#     fade_out = audio1[-crossfade_ms:].fade_out(crossfade_ms)\n",
    "#     fade_in = audio2[:crossfade_ms].fade_in(crossfade_ms)\n",
    "#     crossfaded = fade_out.overlay(fade_in)  # 混合\n",
    "#     yield crossfaded.raw_data\n",
    "\n",
    "#     # Step 3: 播放 audio2 剩余部分\n",
    "#     remaining = audio2[crossfade_ms:]\n",
    "#     yield remaining.raw_data\n",
    "# crossfade_ms = 250\n",
    "# a1 = audio1[:-crossfade_ms]\n",
    "# a2 = audio2[crossfade_ms:]\n",
    "# fade_out = audio1[-crossfade_ms:].fade_out(crossfade_ms)\n",
    "# fade_in = audio2[:crossfade_ms].fade_in(crossfade_ms)\n",
    "# crossfaded = fade_out.overlay(fade_in)\n",
    "\n",
    "# merged_chunk = a1.append(crossfaded, crossfade=0)\n",
    "# merged_chunk = merged_chunk.append(a2, crossfade=0)\n",
    "# merged_chunk.export(\"merged_chunk.mp3\", format=\"mp3\")\n",
    "# with open(\"merged_chunk.mp3\", \"wb\") as f:\n",
    "    # f.write(a1 + crossfaded + a2)\n"
   ]
  },
  {
   "cell_type": "code",
   "execution_count": 27,
   "id": "7a16fd3f",
   "metadata": {},
   "outputs": [
    {
     "name": "stdout",
     "output_type": "stream",
     "text": [
      "Time taken to receive chunk: 1.27 seconds\n",
      "Time taken to receive chunk: 1.13 seconds\n",
      "Time taken to receive chunk: 1.32 seconds\n",
      "Time taken to receive chunk: 1.17 seconds\n",
      "Time taken to receive chunk: 1.25 seconds\n",
      "Time taken to receive chunk: 1.31 seconds\n"
     ]
    }
   ],
   "source": [
    "import httpx\n",
    "import requests\n",
    "from pydub import AudioSegment\n",
    "from io import BytesIO\n",
    "import time\n",
    "payload = {\n",
    "    \"prompt_audio_url\": \"https://beezstorageblob.blob.core.windows.net/emailblob/cloned_voice_0e3a2d2d-7a24-41d2-b1f5-c7af7f3ab284.wav\",\n",
    "    \"text\": \"Tom could benefit from more consistent practice to really solidify his understanding and skills in chess. This is a common area for growth, and with some focused effort, we'll see great progress. To help Tom get more accustomed to chess, we recommend establishing a fun, regular practice routine at home. Tom could try playing one or two quick games daily, either with family or on a platform like ChessKid. Solving a few chess puzzles each week through an app or workbook is also an excellent way to sharpen his mind. Aiming for around 2-4 hours of practice a week will build a strong foundation and keep the game enjoyable and engaging for him.\",\n",
    "}\n",
    "\n",
    "concat_segment = None\n",
    "\n",
    "\n",
    "\n",
    "\n",
    "try:\n",
    "    with httpx.stream(\"POST\", \"http://127.0.0.1:62343/generate-speech-stream/\", json=payload, follow_redirects=True) as r:\n",
    "        # r.raise_for_status() # Ensure the request was successful\n",
    "        start_time = time.time()\n",
    "        for chunk in r.iter_bytes():\n",
    "            end_time = time.time()\n",
    "            print(f\"Time taken to receive chunk: {end_time - start_time:.2f} seconds\")\n",
    "            start_time = end_time\n",
    "            if concat_segment is None:\n",
    "                concat_segment = AudioSegment.from_file(BytesIO(chunk))\n",
    "            else:\n",
    "                concat_segment = concat_segment.append(AudioSegment.from_file(BytesIO(chunk)), crossfade=0)\n",
    "    concat_segment.export(\"test_stream.mp3\", format=\"mp3\")\n",
    "except httpx.HTTPError as e:\n",
    "    print(f\"An HTTP error occurred: {e}\")"
   ]
  },
  {
   "cell_type": "code",
   "execution_count": 28,
   "id": "bb1d9520",
   "metadata": {},
   "outputs": [
    {
     "name": "stdout",
     "output_type": "stream",
     "text": [
      "{'text': \"Tom could benefit from more consistent practice to really solidify his understanding and skills in chess. This is a common area for growth and with some focused effort, we'll see great progress. To help Tom get more accustomed to chess, we recommend establishing a fun, regular practice routine at home. Tom could try playing one or two quick games daily, either with family or on a platform like ChessKit. Solving a few chess puzzles each week through an app or workbook is also an excellent way to sharpen his mind. Aiming for around 24 hours of practice a week will build a strong foundation and keep the game enjoyable and engaging for him.\", 'segments': [{'start': 0.0, 'end': 29.44, 'text': \"Tom could benefit from more consistent practice to really solidify his understanding and skills in chess. This is a common area for growth and with some focused effort, we'll see great progress. To help Tom get more accustomed to chess, we recommend establishing a fun, regular practice routine at home. Tom could try playing one or two quick games daily, either with family or on a platform like ChessKit.\"}, {'start': 29.44, 'end': 44.71, 'text': 'Solving a few chess puzzles each week through an app or workbook is also an excellent way to sharpen his mind. Aiming for around 24 hours of practice a week will build a strong foundation and keep the game enjoyable and engaging for him.'}], 'language': 'en', 'language_probability': 1, 'processing_time': 1.0}\n"
     ]
    }
   ],
   "source": [
    "# transcribe base64\n",
    "import base64\n",
    "import requests\n",
    "# with open(\"test_stream.mp3\", \"rb\") as f:\n",
    "with open(\"test_stream.mp3\", \"rb\") as f:\n",
    "    data = f.read()\n",
    "    base64_data = base64.b64encode(data).decode(\"utf-8\")\n",
    "payload = {\n",
    "    \"audio_data\": base64_data,\n",
    "    \"file_extension\": \"wav\",\n",
    "    \"language\": \"en\"\n",
    "}\n",
    "\n",
    "response = requests.post(\"http://127.0.0.1:62343/transcribe_base64/\", json=payload)\n",
    "print(response.json())"
   ]
  }
 ],
 "metadata": {
  "kernelspec": {
   "display_name": "Python 3",
   "language": "python",
   "name": "python3"
  },
  "language_info": {
   "codemirror_mode": {
    "name": "ipython",
    "version": 3
   },
   "file_extension": ".py",
   "mimetype": "text/x-python",
   "name": "python",
   "nbconvert_exporter": "python",
   "pygments_lexer": "ipython3",
   "version": "3.12.11"
  }
 },
 "nbformat": 4,
 "nbformat_minor": 5
}
